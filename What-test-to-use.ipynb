{
 "cells": [
  {
   "cell_type": "code",
   "execution_count": 1,
   "metadata": {},
   "outputs": [],
   "source": [
    "import numpy as np\n",
    "import pandas as pd\n",
    "import matplotlib.pyplot as plt\n",
    "% matplotlib inline\n",
    "import scipy.stats"
   ]
  },
  {
   "cell_type": "code",
   "execution_count": 2,
   "metadata": {},
   "outputs": [],
   "source": [
    "ess = pd.read_csv('ESSdata_Thinkful.csv')"
   ]
  },
  {
   "cell_type": "code",
   "execution_count": 3,
   "metadata": {},
   "outputs": [],
   "source": [
    "ess.ppltrst = ess.ppltrst.fillna(np.mean(ess.ppltrst))\n",
    "ess.happy = ess.happy.fillna(np.mean(ess.happy))\n",
    "ess.tvtot = ess.tvtot.fillna(np.mean(ess.tvtot))\n",
    "ess.pplfair = ess.pplfair.fillna(np.mean(ess.pplfair))\n",
    "ess.sclmeet = ess.sclmeet.fillna(np.mean(ess.sclmeet))\n",
    "ess.sclact = ess.sclact.fillna(np.mean(ess.sclact))"
   ]
  },
  {
   "cell_type": "code",
   "execution_count": 4,
   "metadata": {},
   "outputs": [
    {
     "data": {
      "text/html": [
       "<div>\n",
       "<style scoped>\n",
       "    .dataframe tbody tr th:only-of-type {\n",
       "        vertical-align: middle;\n",
       "    }\n",
       "\n",
       "    .dataframe tbody tr th {\n",
       "        vertical-align: top;\n",
       "    }\n",
       "\n",
       "    .dataframe thead th {\n",
       "        text-align: right;\n",
       "    }\n",
       "</style>\n",
       "<table border=\"1\" class=\"dataframe\">\n",
       "  <thead>\n",
       "    <tr style=\"text-align: right;\">\n",
       "      <th></th>\n",
       "      <th>cntry</th>\n",
       "      <th>idno</th>\n",
       "      <th>year</th>\n",
       "      <th>tvtot</th>\n",
       "      <th>ppltrst</th>\n",
       "      <th>pplfair</th>\n",
       "      <th>pplhlp</th>\n",
       "      <th>happy</th>\n",
       "      <th>sclmeet</th>\n",
       "      <th>sclact</th>\n",
       "      <th>gndr</th>\n",
       "      <th>agea</th>\n",
       "      <th>partner</th>\n",
       "    </tr>\n",
       "  </thead>\n",
       "  <tbody>\n",
       "    <tr>\n",
       "      <th>0</th>\n",
       "      <td>CH</td>\n",
       "      <td>5.0</td>\n",
       "      <td>6</td>\n",
       "      <td>3.0</td>\n",
       "      <td>3.0</td>\n",
       "      <td>10.0</td>\n",
       "      <td>5.0</td>\n",
       "      <td>8.0</td>\n",
       "      <td>5.0</td>\n",
       "      <td>4.0</td>\n",
       "      <td>2.0</td>\n",
       "      <td>60.0</td>\n",
       "      <td>1.0</td>\n",
       "    </tr>\n",
       "    <tr>\n",
       "      <th>1</th>\n",
       "      <td>CH</td>\n",
       "      <td>25.0</td>\n",
       "      <td>6</td>\n",
       "      <td>6.0</td>\n",
       "      <td>5.0</td>\n",
       "      <td>7.0</td>\n",
       "      <td>5.0</td>\n",
       "      <td>9.0</td>\n",
       "      <td>3.0</td>\n",
       "      <td>2.0</td>\n",
       "      <td>2.0</td>\n",
       "      <td>59.0</td>\n",
       "      <td>1.0</td>\n",
       "    </tr>\n",
       "    <tr>\n",
       "      <th>2</th>\n",
       "      <td>CH</td>\n",
       "      <td>26.0</td>\n",
       "      <td>6</td>\n",
       "      <td>1.0</td>\n",
       "      <td>8.0</td>\n",
       "      <td>8.0</td>\n",
       "      <td>8.0</td>\n",
       "      <td>7.0</td>\n",
       "      <td>6.0</td>\n",
       "      <td>3.0</td>\n",
       "      <td>1.0</td>\n",
       "      <td>24.0</td>\n",
       "      <td>2.0</td>\n",
       "    </tr>\n",
       "    <tr>\n",
       "      <th>3</th>\n",
       "      <td>CH</td>\n",
       "      <td>28.0</td>\n",
       "      <td>6</td>\n",
       "      <td>4.0</td>\n",
       "      <td>6.0</td>\n",
       "      <td>6.0</td>\n",
       "      <td>7.0</td>\n",
       "      <td>10.0</td>\n",
       "      <td>6.0</td>\n",
       "      <td>2.0</td>\n",
       "      <td>2.0</td>\n",
       "      <td>64.0</td>\n",
       "      <td>1.0</td>\n",
       "    </tr>\n",
       "    <tr>\n",
       "      <th>4</th>\n",
       "      <td>CH</td>\n",
       "      <td>29.0</td>\n",
       "      <td>6</td>\n",
       "      <td>5.0</td>\n",
       "      <td>6.0</td>\n",
       "      <td>7.0</td>\n",
       "      <td>5.0</td>\n",
       "      <td>8.0</td>\n",
       "      <td>7.0</td>\n",
       "      <td>2.0</td>\n",
       "      <td>2.0</td>\n",
       "      <td>55.0</td>\n",
       "      <td>1.0</td>\n",
       "    </tr>\n",
       "  </tbody>\n",
       "</table>\n",
       "</div>"
      ],
      "text/plain": [
       "  cntry  idno  year  tvtot  ppltrst  pplfair  pplhlp  happy  sclmeet  sclact  \\\n",
       "0    CH   5.0     6    3.0      3.0     10.0     5.0    8.0      5.0     4.0   \n",
       "1    CH  25.0     6    6.0      5.0      7.0     5.0    9.0      3.0     2.0   \n",
       "2    CH  26.0     6    1.0      8.0      8.0     8.0    7.0      6.0     3.0   \n",
       "3    CH  28.0     6    4.0      6.0      6.0     7.0   10.0      6.0     2.0   \n",
       "4    CH  29.0     6    5.0      6.0      7.0     5.0    8.0      7.0     2.0   \n",
       "\n",
       "   gndr  agea  partner  \n",
       "0   2.0  60.0      1.0  \n",
       "1   2.0  59.0      1.0  \n",
       "2   1.0  24.0      2.0  \n",
       "3   2.0  64.0      1.0  \n",
       "4   2.0  55.0      1.0  "
      ]
     },
     "execution_count": 4,
     "metadata": {},
     "output_type": "execute_result"
    }
   ],
   "source": [
    "ess.head()"
   ]
  },
  {
   "cell_type": "code",
   "execution_count": 5,
   "metadata": {},
   "outputs": [
    {
     "data": {
      "text/html": [
       "<div>\n",
       "<style scoped>\n",
       "    .dataframe tbody tr th:only-of-type {\n",
       "        vertical-align: middle;\n",
       "    }\n",
       "\n",
       "    .dataframe tbody tr th {\n",
       "        vertical-align: top;\n",
       "    }\n",
       "\n",
       "    .dataframe thead th {\n",
       "        text-align: right;\n",
       "    }\n",
       "</style>\n",
       "<table border=\"1\" class=\"dataframe\">\n",
       "  <thead>\n",
       "    <tr style=\"text-align: right;\">\n",
       "      <th></th>\n",
       "      <th>cntry</th>\n",
       "      <th>idno</th>\n",
       "      <th>year</th>\n",
       "      <th>tvtot</th>\n",
       "      <th>ppltrst</th>\n",
       "      <th>pplfair</th>\n",
       "      <th>pplhlp</th>\n",
       "      <th>happy</th>\n",
       "      <th>sclmeet</th>\n",
       "      <th>sclact</th>\n",
       "      <th>gndr</th>\n",
       "      <th>agea</th>\n",
       "      <th>partner</th>\n",
       "    </tr>\n",
       "  </thead>\n",
       "  <tbody>\n",
       "    <tr>\n",
       "      <th>8589</th>\n",
       "      <td>SE</td>\n",
       "      <td>3729.0</td>\n",
       "      <td>7</td>\n",
       "      <td>3.0</td>\n",
       "      <td>4.0</td>\n",
       "      <td>5.0</td>\n",
       "      <td>3.0</td>\n",
       "      <td>6.0</td>\n",
       "      <td>6.0</td>\n",
       "      <td>2.0</td>\n",
       "      <td>1.0</td>\n",
       "      <td>18.0</td>\n",
       "      <td>2.0</td>\n",
       "    </tr>\n",
       "    <tr>\n",
       "      <th>8590</th>\n",
       "      <td>SE</td>\n",
       "      <td>3732.0</td>\n",
       "      <td>7</td>\n",
       "      <td>5.0</td>\n",
       "      <td>6.0</td>\n",
       "      <td>4.0</td>\n",
       "      <td>4.0</td>\n",
       "      <td>10.0</td>\n",
       "      <td>6.0</td>\n",
       "      <td>3.0</td>\n",
       "      <td>1.0</td>\n",
       "      <td>15.0</td>\n",
       "      <td>2.0</td>\n",
       "    </tr>\n",
       "    <tr>\n",
       "      <th>8591</th>\n",
       "      <td>SE</td>\n",
       "      <td>3743.0</td>\n",
       "      <td>7</td>\n",
       "      <td>4.0</td>\n",
       "      <td>5.0</td>\n",
       "      <td>7.0</td>\n",
       "      <td>6.0</td>\n",
       "      <td>8.0</td>\n",
       "      <td>6.0</td>\n",
       "      <td>3.0</td>\n",
       "      <td>1.0</td>\n",
       "      <td>44.0</td>\n",
       "      <td>2.0</td>\n",
       "    </tr>\n",
       "    <tr>\n",
       "      <th>8592</th>\n",
       "      <td>SE</td>\n",
       "      <td>3744.0</td>\n",
       "      <td>7</td>\n",
       "      <td>5.0</td>\n",
       "      <td>8.0</td>\n",
       "      <td>8.0</td>\n",
       "      <td>6.0</td>\n",
       "      <td>9.0</td>\n",
       "      <td>7.0</td>\n",
       "      <td>3.0</td>\n",
       "      <td>1.0</td>\n",
       "      <td>15.0</td>\n",
       "      <td>2.0</td>\n",
       "    </tr>\n",
       "    <tr>\n",
       "      <th>8593</th>\n",
       "      <td>SE</td>\n",
       "      <td>3746.0</td>\n",
       "      <td>7</td>\n",
       "      <td>2.0</td>\n",
       "      <td>6.0</td>\n",
       "      <td>7.0</td>\n",
       "      <td>5.0</td>\n",
       "      <td>7.0</td>\n",
       "      <td>7.0</td>\n",
       "      <td>4.0</td>\n",
       "      <td>2.0</td>\n",
       "      <td>15.0</td>\n",
       "      <td>2.0</td>\n",
       "    </tr>\n",
       "  </tbody>\n",
       "</table>\n",
       "</div>"
      ],
      "text/plain": [
       "     cntry    idno  year  tvtot  ppltrst  pplfair  pplhlp  happy  sclmeet  \\\n",
       "8589    SE  3729.0     7    3.0      4.0      5.0     3.0    6.0      6.0   \n",
       "8590    SE  3732.0     7    5.0      6.0      4.0     4.0   10.0      6.0   \n",
       "8591    SE  3743.0     7    4.0      5.0      7.0     6.0    8.0      6.0   \n",
       "8592    SE  3744.0     7    5.0      8.0      8.0     6.0    9.0      7.0   \n",
       "8593    SE  3746.0     7    2.0      6.0      7.0     5.0    7.0      7.0   \n",
       "\n",
       "      sclact  gndr  agea  partner  \n",
       "8589     2.0   1.0  18.0      2.0  \n",
       "8590     3.0   1.0  15.0      2.0  \n",
       "8591     3.0   1.0  44.0      2.0  \n",
       "8592     3.0   1.0  15.0      2.0  \n",
       "8593     4.0   2.0  15.0      2.0  "
      ]
     },
     "execution_count": 5,
     "metadata": {},
     "output_type": "execute_result"
    }
   ],
   "source": [
    "ess.tail()"
   ]
  },
  {
   "cell_type": "markdown",
   "metadata": {},
   "source": [
    "# Did people become less trusting from 2012 to 2014? Compute results for each country in the sample."
   ]
  },
  {
   "cell_type": "code",
   "execution_count": 6,
   "metadata": {},
   "outputs": [
    {
     "data": {
      "image/png": "[encoded data removed]",
      "text/plain": [
       "<Figure size 1008x360 with 2 Axes>"
      ]
     },
     "metadata": {},
     "output_type": "display_data"
    }
   ],
   "source": [
    "plt.figure(figsize=(14, 5))\n",
    "plt.subplot(121)\n",
    "plt.title('2012')\n",
    "ess.ppltrst[ess.year == 6].hist()\n",
    "\n",
    "plt.subplot(122)\n",
    "plt.title('2014')\n",
    "ess.ppltrst[ess.year == 7].hist()\n",
    "plt.show()"
   ]
  },
  {
   "cell_type": "code",
   "execution_count": 7,
   "metadata": {},
   "outputs": [
    {
     "data": {
      "text/plain": [
       "Ttest_relResult(statistic=0.13802065795077995, pvalue=0.890230559647673)"
      ]
     },
     "execution_count": 7,
     "metadata": {},
     "output_type": "execute_result"
    }
   ],
   "source": [
    "scipy.stats.ttest_rel(ess.ppltrst[ess.year == 6], ess.ppltrst[ess.year ==7])"
   ]
  },
  {
   "cell_type": "code",
   "execution_count": 8,
   "metadata": {},
   "outputs": [
    {
     "data": {
      "text/plain": [
       "array(['CH', 'CZ', 'DE', 'ES', 'NO', 'SE'], dtype=object)"
      ]
     },
     "execution_count": 8,
     "metadata": {},
     "output_type": "execute_result"
    }
   ],
   "source": [
    "ess.cntry.unique()"
   ]
  },
  {
   "cell_type": "code",
   "execution_count": 9,
   "metadata": {},
   "outputs": [
    {
     "name": "stdout",
     "output_type": "stream",
     "text": [
      "Change in Trust from 2012 to 2014\n",
      "\n",
      "Switzerland\n",
      "0.07373868046571808\n",
      "\n",
      "Czech Republic\n",
      "0.05112547027440684\n",
      "\n",
      "Germany\n",
      "0.14285714285714235\n",
      "\n",
      "Spain\n",
      "-0.2183678371642097\n",
      "\n",
      "Norway\n",
      "-0.050615595075239384\n",
      "\n",
      "Sweden\n",
      "0.20030857541870706\n"
     ]
    }
   ],
   "source": [
    "print('Change in Trust from 2012 to 2014')\n",
    "print('\\nSwitzerland')\n",
    "print(np.mean(ess.ppltrst[(ess.year == 7) & (ess.cntry == 'CH')]) - \n",
    "      np.mean(ess.ppltrst[(ess.year == 6) & (ess.cntry == 'CH')]))\n",
    "print('\\nCzech Republic')\n",
    "print(np.mean(ess.ppltrst[(ess.year == 7) & (ess.cntry == 'CZ')]) - \n",
    "      np.mean(ess.ppltrst[(ess.year == 6) & (ess.cntry == 'CZ')]))\n",
    "print('\\nGermany')\n",
    "print(np.mean(ess.ppltrst[(ess.year == 7) & (ess.cntry == 'DE')]) - \n",
    "      np.mean(ess.ppltrst[(ess.year == 6) & (ess.cntry == 'DE')]))\n",
    "print('\\nSpain')\n",
    "print(np.mean(ess.ppltrst[(ess.year == 7) & (ess.cntry == 'ES')]) - \n",
    "      np.mean(ess.ppltrst[(ess.year == 6) & (ess.cntry == 'ES')]))\n",
    "print('\\nNorway')\n",
    "print(np.mean(ess.ppltrst[(ess.year == 7) & (ess.cntry == 'NO')]) - \n",
    "      np.mean(ess.ppltrst[(ess.year == 6) & (ess.cntry == 'NO')]))\n",
    "print('\\nSweden')\n",
    "print(np.mean(ess.ppltrst[(ess.year == 7) & (ess.cntry == 'SE')]) - \n",
    "      np.mean(ess.ppltrst[(ess.year == 6) & (ess.cntry == 'SE')]))"
   ]
  },
  {
   "cell_type": "code",
   "execution_count": 10,
   "metadata": {},
   "outputs": [
    {
     "data": {
      "text/plain": [
       "Ttest_relResult(statistic=-2.4735850532737875, pvalue=0.013512727333085083)"
      ]
     },
     "execution_count": 10,
     "metadata": {},
     "output_type": "execute_result"
    }
   ],
   "source": [
    "scipy.stats.ttest_rel(ess.ppltrst[(ess.year == 7) & (ess.cntry == 'ES')],\n",
    "      ess.ppltrst[(ess.year == 6) & (ess.cntry == 'ES')])"
   ]
  },
  {
   "cell_type": "code",
   "execution_count": 11,
   "metadata": {},
   "outputs": [
    {
     "data": {
      "text/plain": [
       "Ttest_relResult(statistic=-0.5359620844852665, pvalue=0.5921480165258421)"
      ]
     },
     "execution_count": 11,
     "metadata": {},
     "output_type": "execute_result"
    }
   ],
   "source": [
    "scipy.stats.ttest_rel(ess.ppltrst[(ess.year == 7) & (ess.cntry == 'NO')],\n",
    "      ess.ppltrst[(ess.year == 6) & (ess.cntry == 'NO')])"
   ]
  },
  {
   "cell_type": "markdown",
   "metadata": {},
   "source": [
    "## Change in Trust from 2012 to 2014\n",
    "A people value of 0.89 shows that overall the change in how trusting people in the survey are is not significant.  However, the p-value of 0.01 when specifically looking at responses from Spain shows a significant decrease in trust in that particular country.\n",
    "\n",
    "I chose to use t-testing for paired samples since the same respondents are being surveyed two years apart and data appears to be normally distributed."
   ]
  },
  {
   "cell_type": "markdown",
   "metadata": {},
   "source": [
    "# Did people become happier from 2012 to 2014? Compute results for each country in the sample."
   ]
  },
  {
   "cell_type": "code",
   "execution_count": 12,
   "metadata": {},
   "outputs": [
    {
     "data": {
      "image/png": "[encoded data removed]",
      "text/plain": [
       "<Figure size 1008x360 with 2 Axes>"
      ]
     },
     "metadata": {},
     "output_type": "display_data"
    }
   ],
   "source": [
    "plt.figure(figsize=(14, 5))\n",
    "plt.subplot(121)\n",
    "plt.title('2012')\n",
    "ess.happy[ess.year == 6].hist()\n",
    "\n",
    "plt.subplot(122)\n",
    "plt.title('2014')\n",
    "ess.happy[ess.year == 7].hist()\n",
    "plt.show()"
   ]
  },
  {
   "cell_type": "code",
   "execution_count": 13,
   "metadata": {},
   "outputs": [
    {
     "data": {
      "text/plain": [
       "WilcoxonResult(statistic=2948645.0, pvalue=0.03706613377842052)"
      ]
     },
     "execution_count": 13,
     "metadata": {},
     "output_type": "execute_result"
    }
   ],
   "source": [
    "scipy.stats.wilcoxon(ess.happy[ess.year == 6], ess.happy[ess.year == 7], zero_method='wilcox')"
   ]
  },
  {
   "cell_type": "code",
   "execution_count": 14,
   "metadata": {},
   "outputs": [
    {
     "name": "stdout",
     "output_type": "stream",
     "text": [
      "Change in Happiness from 2012 to 2014\n",
      "\n",
      "Switzerland\n",
      "0.029645732059121244\n",
      "\n",
      "Czech Republic\n",
      "0.133483741281764\n",
      "\n",
      "Germany\n",
      "0.42857142857142794\n",
      "\n",
      "Spain\n",
      "-0.12860676009892824\n",
      "\n",
      "Norway\n",
      "-0.33348627290159527\n",
      "\n",
      "Sweden\n",
      "0.03897492593120422\n"
     ]
    }
   ],
   "source": [
    "print('Change in Happiness from 2012 to 2014')\n",
    "print('\\nSwitzerland')\n",
    "print(np.mean(ess.happy[(ess.year == 7) & (ess.cntry == 'CH')]) - \n",
    "      np.mean(ess.happy[(ess.year == 6) & (ess.cntry == 'CH')]))\n",
    "print('\\nCzech Republic')\n",
    "print(np.mean(ess.happy[(ess.year == 7) & (ess.cntry == 'CZ')]) - \n",
    "      np.mean(ess.happy[(ess.year == 6) & (ess.cntry == 'CZ')]))\n",
    "print('\\nGermany')\n",
    "print(np.mean(ess.happy[(ess.year == 7) & (ess.cntry == 'DE')]) - \n",
    "      np.mean(ess.happy[(ess.year == 6) & (ess.cntry == 'DE')]))\n",
    "print('\\nSpain')\n",
    "print(np.mean(ess.happy[(ess.year == 7) & (ess.cntry == 'ES')]) - \n",
    "      np.mean(ess.happy[(ess.year == 6) & (ess.cntry == 'ES')]))\n",
    "print('\\nNorway')\n",
    "print(np.mean(ess.happy[(ess.year == 7) & (ess.cntry == 'NO')]) - \n",
    "      np.mean(ess.happy[(ess.year == 6) & (ess.cntry == 'NO')]))\n",
    "print('\\nSweden')\n",
    "print(np.mean(ess.happy[(ess.year == 7) & (ess.cntry == 'SE')]) - \n",
    "      np.mean(ess.happy[(ess.year == 6) & (ess.cntry == 'SE')]))"
   ]
  },
  {
   "cell_type": "markdown",
   "metadata": {},
   "source": [
    "## Change in Happiness\n",
    "A p-value of 0.037 shows a significant change in happiness among those surveyed.  Some countries experienced larger changes thatn others.  Germany experienced the largest gain in reported happiness, with an average increase of 0.4286.  Norway experienced the largest decrease in reported happiness, with a average decrease of 0.3335.\n",
    "\n",
    "I used the Wilcoxon signed-rank test since the two surveys included that same participants, but data is skewed."
   ]
  },
  {
   "cell_type": "markdown",
   "metadata": {},
   "source": [
    "# Who reported watching more TV in 2012, men or women?"
   ]
  },
  {
   "cell_type": "code",
   "execution_count": 15,
   "metadata": {},
   "outputs": [
    {
     "data": {
      "text/plain": [
       "<matplotlib.axes._subplots.AxesSubplot at 0x218f363e9e8>"
      ]
     },
     "execution_count": 15,
     "metadata": {},
     "output_type": "execute_result"
    },
    {
     "data": {
      "image/png": "[encoded data removed]",
      "text/plain": [
       "<Figure size 1008x360 with 2 Axes>"
      ]
     },
     "metadata": {},
     "output_type": "display_data"
    }
   ],
   "source": [
    "plt.figure(figsize=(14, 5))\n",
    "plt.subplot(121)\n",
    "plt.title('Men')\n",
    "ess.tvtot[(ess.year == 6) & (ess.gndr == 1)].hist()\n",
    "\n",
    "plt.subplot(122)\n",
    "plt.title('Women')\n",
    "ess.tvtot[(ess.year == 6) & (ess.gndr == 2)].hist()"
   ]
  },
  {
   "cell_type": "code",
   "execution_count": 16,
   "metadata": {},
   "outputs": [
    {
     "data": {
      "text/plain": [
       "Ttest_indResult(statistic=-0.6899854275080107, pvalue=0.49024063084629854)"
      ]
     },
     "execution_count": 16,
     "metadata": {},
     "output_type": "execute_result"
    }
   ],
   "source": [
    "scipy.stats.ttest_ind(ess.tvtot[(ess.year == 6) & (ess.gndr == 1)], ess.tvtot[(ess.year == 6) & (ess.gndr == 2)])"
   ]
  },
  {
   "cell_type": "code",
   "execution_count": 17,
   "metadata": {},
   "outputs": [
    {
     "name": "stdout",
     "output_type": "stream",
     "text": [
      "Mean Hours of TV Watched by Men\n",
      "3.901850489265741\n",
      "\n",
      "Mean Hours of TV Watched by Women\n",
      "3.944277159999256\n",
      "\n",
      "Difference in Mean Hours of TV Watched\n",
      "0.04242667073351525\n"
     ]
    }
   ],
   "source": [
    "print('Mean Hours of TV Watched by Men')\n",
    "print(np.mean(ess.tvtot[(ess.year == 6) & (ess.gndr == 1)]))\n",
    "\n",
    "print('\\nMean Hours of TV Watched by Women')\n",
    "print(np.mean(ess.tvtot[(ess.year == 6) & (ess.gndr == 2)]))\n",
    "\n",
    "print('\\nDifference in Mean Hours of TV Watched')\n",
    "print(np.mean(ess.tvtot[(ess.year == 6) & (ess.gndr == 2)]) - np.mean(ess.tvtot[(ess.year == 6) & (ess.gndr == 1)]))"
   ]
  },
  {
   "cell_type": "markdown",
   "metadata": {},
   "source": [
    "## Hours of TV Watched by Gender in 2012\n",
    "A p-value of 0.49 shows no significant difference in hours of TV watched by men and women in 2012.  The difference in mean hours watched is very small at 0.042 hours per day.\n",
    "\n",
    "I used t-testing for individual samples since two different groups are being compared and data seems to be fairly normally distributed."
   ]
  },
  {
   "cell_type": "markdown",
   "metadata": {},
   "source": [
    "# Who was more likely to believe people were fair in 2012, people living with a partner or people living alone?"
   ]
  },
  {
   "cell_type": "code",
   "execution_count": 18,
   "metadata": {},
   "outputs": [
    {
     "data": {
      "text/plain": [
       "<matplotlib.axes._subplots.AxesSubplot at 0x218f38f1f98>"
      ]
     },
     "execution_count": 18,
     "metadata": {},
     "output_type": "execute_result"
    },
    {
     "data": {
      "image/png": "[encoded data removed]",
      "text/plain": [
       "<Figure size 1008x360 with 2 Axes>"
      ]
     },
     "metadata": {},
     "output_type": "display_data"
    }
   ],
   "source": [
    "plt.figure(figsize=(14, 5))\n",
    "plt.subplot(121)\n",
    "plt.title('Living with Partner')\n",
    "ess.tvtot[(ess.year == 6) & (ess.partner == 1)].hist()\n",
    "\n",
    "plt.subplot(122)\n",
    "plt.title('Not Living with Partner')\n",
    "ess.tvtot[(ess.year == 6) & (ess.partner == 2)].hist()"
   ]
  },
  {
   "cell_type": "code",
   "execution_count": 19,
   "metadata": {},
   "outputs": [
    {
     "data": {
      "text/plain": [
       "Ttest_indResult(statistic=3.3196342169381756, pvalue=0.0009088839089194009)"
      ]
     },
     "execution_count": 19,
     "metadata": {},
     "output_type": "execute_result"
    }
   ],
   "source": [
    "scipy.stats.ttest_ind((ess.pplfair[(ess.year == 6) & (ess.partner == 1)]),\n",
    "                      (ess.pplfair[(ess.year == 6) & (ess.partner == 2)]))"
   ]
  },
  {
   "cell_type": "code",
   "execution_count": 20,
   "metadata": {},
   "outputs": [
    {
     "name": "stdout",
     "output_type": "stream",
     "text": [
      "Mean Score for People are Fair for Those Living with Partner\n",
      "6.080425046784697\n",
      "\n",
      "Mean Score for People are Fair for Those Not Living with Partner\n",
      "5.857698728668892\n",
      "\n",
      "Difference in Mean Score\n",
      "0.22272631811580457\n"
     ]
    }
   ],
   "source": [
    "print('Mean Score for People are Fair for Those Living with Partner')\n",
    "print(np.mean(ess.pplfair[(ess.year == 6) & (ess.partner == 1)]))\n",
    "\n",
    "print('\\nMean Score for People are Fair for Those Not Living with Partner')\n",
    "print(np.mean(ess.pplfair[(ess.year == 6) & (ess.partner == 2)]))\n",
    "\n",
    "print('\\nDifference in Mean Score')\n",
    "print(np.mean(ess.pplfair[(ess.year == 6) & (ess.partner == 1)]) -\n",
    "(np.mean(ess.pplfair[(ess.year == 6) & (ess.partner == 2)])))"
   ]
  },
  {
   "cell_type": "markdown",
   "metadata": {},
   "source": [
    "## Comparison in Perceived Fairness\n",
    "Those living with a partner are more likely to view people as fair by an average score of 0.2227.  The p-value of 0.0009 shows that this difference is significant.\n",
    "\n",
    "I used t-testing for individual samples since two different groups are being compared and data seems to be fairly normally distributed."
   ]
  },
  {
   "cell_type": "markdown",
   "metadata": {},
   "source": [
    "# Pick three or four of the countries in the sample and compare how often people met socially in 2014. Are there differences, and if so, which countries stand out?"
   ]
  },
  {
   "cell_type": "code",
   "execution_count": 21,
   "metadata": {},
   "outputs": [
    {
     "data": {
      "image/png": "[encoded data removed]",
      "text/plain": [
       "<Figure size 1080x360 with 3 Axes>"
      ]
     },
     "metadata": {},
     "output_type": "display_data"
    }
   ],
   "source": [
    "plt.figure(figsize=(15, 5))\n",
    "plt.subplot(131)\n",
    "plt.title('Switzerland')\n",
    "ess.sclmeet[(ess.year == 7) & (ess.cntry == 'CH')].hist()\n",
    "\n",
    "plt.subplot(132)\n",
    "plt.title('Czech Republic')\n",
    "ess.sclmeet[(ess.year == 7) & (ess.cntry == 'CZ')].hist()\n",
    "\n",
    "plt.subplot(133)\n",
    "plt.title('Norway')\n",
    "ess.sclmeet[(ess.year == 7) & (ess.cntry == 'NO')].hist()\n",
    "plt.show()"
   ]
  },
  {
   "cell_type": "code",
   "execution_count": 22,
   "metadata": {},
   "outputs": [
    {
     "data": {
      "text/plain": [
       "KruskalResult(statistic=137.51567024768497, pvalue=1.3767390091986437e-30)"
      ]
     },
     "execution_count": 22,
     "metadata": {},
     "output_type": "execute_result"
    }
   ],
   "source": [
    "scipy.stats.kruskal(ess.sclmeet[(ess.year == 7) & (ess.cntry == 'CH')], \n",
    "                    ess.sclmeet[(ess.year == 7) & (ess.cntry == 'CZ')], \n",
    "                    ess.sclmeet[(ess.year == 7) & (ess.cntry == 'NO')])"
   ]
  },
  {
   "cell_type": "code",
   "execution_count": 23,
   "metadata": {},
   "outputs": [
    {
     "data": {
      "text/plain": [
       "KruskalResult(statistic=87.55240277390888, pvalue=8.20761887947487e-21)"
      ]
     },
     "execution_count": 23,
     "metadata": {},
     "output_type": "execute_result"
    }
   ],
   "source": [
    "scipy.stats.kruskal(ess.sclmeet[(ess.year == 7) & (ess.cntry == 'CH')], \n",
    "                    ess.sclmeet[(ess.year == 7) & (ess.cntry == 'CZ')])"
   ]
  },
  {
   "cell_type": "code",
   "execution_count": 24,
   "metadata": {},
   "outputs": [
    {
     "data": {
      "text/plain": [
       "KruskalResult(statistic=5.751585497647247, pvalue=0.016473782204683738)"
      ]
     },
     "execution_count": 24,
     "metadata": {},
     "output_type": "execute_result"
    }
   ],
   "source": [
    "scipy.stats.kruskal(ess.sclmeet[(ess.year == 7) & (ess.cntry == 'CH')], \n",
    "                    ess.sclmeet[(ess.year == 7) & (ess.cntry == 'NO')])"
   ]
  },
  {
   "cell_type": "code",
   "execution_count": 25,
   "metadata": {},
   "outputs": [
    {
     "data": {
      "text/plain": [
       "KruskalResult(statistic=116.56559537391784, pvalue=3.573620317959892e-27)"
      ]
     },
     "execution_count": 25,
     "metadata": {},
     "output_type": "execute_result"
    }
   ],
   "source": [
    "scipy.stats.kruskal(ess.sclmeet[(ess.year == 7) & (ess.cntry == 'CZ')], \n",
    "                    ess.sclmeet[(ess.year == 7) & (ess.cntry == 'NO')])"
   ]
  },
  {
   "cell_type": "code",
   "execution_count": 26,
   "metadata": {},
   "outputs": [
    {
     "name": "stdout",
     "output_type": "stream",
     "text": [
      "Mean Social Meetings:\n",
      "\n",
      "Switzerland\n",
      "5.160663083099364\n",
      "\n",
      "Czech Republic\n",
      "4.449206215360829\n",
      "\n",
      "Norway\n",
      "5.3023255813953485\n"
     ]
    }
   ],
   "source": [
    "print('Mean Social Meetings:')\n",
    "print('\\nSwitzerland')\n",
    "print(np.mean(ess.sclmeet[(ess.year == 7) & (ess.cntry == 'CH')]))\n",
    "print('\\nCzech Republic')\n",
    "print(np.mean(ess.sclmeet[(ess.year == 7) & (ess.cntry == 'CZ')]))\n",
    "print('\\nNorway')\n",
    "print(np.mean(ess.sclmeet[(ess.year == 7) & (ess.cntry == 'NO')]))"
   ]
  },
  {
   "cell_type": "markdown",
   "metadata": {},
   "source": [
    "## Comparing Number of Social Meetings\n",
    "There is a significant difference in the number of social meetings in the different countries, shown by the extremely low p-value.  Of the three, the Czech Republic stands out, as the number of meeting is a good bit lower than the other two countries.\n",
    "\n",
    "I chose to use the Kruskal-Wallis H test since data is highly-skewed, but there are no significant outliers."
   ]
  },
  {
   "cell_type": "markdown",
   "metadata": {},
   "source": [
    "# Pick three or four of the countries in the sample and compare how often people took part in social activities, relative to others their age, in 2014. Are there differences, and if so, which countries stand out?"
   ]
  },
  {
   "cell_type": "code",
   "execution_count": 27,
   "metadata": {},
   "outputs": [
    {
     "data": {
      "image/png": "[encoded data removed]",
      "text/plain": [
       "<Figure size 1080x360 with 3 Axes>"
      ]
     },
     "metadata": {},
     "output_type": "display_data"
    }
   ],
   "source": [
    "plt.figure(figsize=(15, 5))\n",
    "plt.subplot(131)\n",
    "plt.title('Switzerland')\n",
    "ess.sclact[(ess.year == 7) & (ess.cntry == 'CH')].hist()\n",
    "\n",
    "plt.subplot(132)\n",
    "plt.title('Czech Republic')\n",
    "ess.sclact[(ess.year == 7) & (ess.cntry == 'CZ')].hist()\n",
    "\n",
    "plt.subplot(133)\n",
    "plt.title('Norway')\n",
    "ess.sclact[(ess.year == 7) & (ess.cntry == 'NO')].hist()\n",
    "plt.show()"
   ]
  },
  {
   "cell_type": "code",
   "execution_count": 28,
   "metadata": {},
   "outputs": [
    {
     "data": {
      "text/plain": [
       "F_onewayResult(statistic=5.621574483499976, pvalue=0.0036721141342730265)"
      ]
     },
     "execution_count": 28,
     "metadata": {},
     "output_type": "execute_result"
    }
   ],
   "source": [
    "scipy.stats.f_oneway(ess.sclact[(ess.year == 7) & (ess.cntry == 'CH')], \n",
    "                    ess.sclact[(ess.year == 7) & (ess.cntry == 'CZ')], \n",
    "                    ess.sclact[(ess.year == 7) & (ess.cntry == 'NO')])"
   ]
  },
  {
   "cell_type": "code",
   "execution_count": 29,
   "metadata": {},
   "outputs": [
    {
     "data": {
      "text/plain": [
       "Ttest_indResult(statistic=1.6654627801911122, pvalue=0.09603965267664333)"
      ]
     },
     "execution_count": 29,
     "metadata": {},
     "output_type": "execute_result"
    }
   ],
   "source": [
    "scipy.stats.ttest_ind(ess.sclact[(ess.year == 7) & (ess.cntry == 'CH')], \n",
    "                    ess.sclact[(ess.year == 7) & (ess.cntry == 'CZ')])"
   ]
  },
  {
   "cell_type": "code",
   "execution_count": 30,
   "metadata": {},
   "outputs": [
    {
     "data": {
      "text/plain": [
       "Ttest_indResult(statistic=-1.7302817044390268, pvalue=0.08378536074795961)"
      ]
     },
     "execution_count": 30,
     "metadata": {},
     "output_type": "execute_result"
    }
   ],
   "source": [
    "scipy.stats.ttest_ind(ess.sclact[(ess.year == 7) & (ess.cntry == 'CH')], \n",
    "                    ess.sclact[(ess.year == 7) & (ess.cntry == 'NO')])"
   ]
  },
  {
   "cell_type": "code",
   "execution_count": 31,
   "metadata": {},
   "outputs": [
    {
     "data": {
      "text/plain": [
       "Ttest_indResult(statistic=-3.455472021747715, pvalue=0.0005659078465744207)"
      ]
     },
     "execution_count": 31,
     "metadata": {},
     "output_type": "execute_result"
    }
   ],
   "source": [
    "scipy.stats.ttest_ind(ess.sclact[(ess.year == 7) & (ess.cntry == 'CZ')], \n",
    "                    ess.sclact[(ess.year == 7) & (ess.cntry == 'NO')])"
   ]
  },
  {
   "cell_type": "code",
   "execution_count": 32,
   "metadata": {},
   "outputs": [
    {
     "name": "stdout",
     "output_type": "stream",
     "text": [
      "Mean Social Activitiess:\n",
      "\n",
      "Switzerland\n",
      "2.781360322654289\n",
      "\n",
      "Czech Republic\n",
      "2.703634543178974\n",
      "\n",
      "Norway\n",
      "2.859097127222982\n"
     ]
    }
   ],
   "source": [
    "print('Mean Social Activitiess:')\n",
    "print('\\nSwitzerland')\n",
    "print(np.mean(ess.sclact[(ess.year == 7) & (ess.cntry == 'CH')]))\n",
    "print('\\nCzech Republic')\n",
    "print(np.mean(ess.sclact[(ess.year == 7) & (ess.cntry == 'CZ')]))\n",
    "print('\\nNorway')\n",
    "print(np.mean(ess.sclact[(ess.year == 7) & (ess.cntry == 'NO')]))"
   ]
  },
  {
   "cell_type": "markdown",
   "metadata": {},
   "source": [
    "## Social Activities Comparison\n",
    "Upon visual inspection, the distributions in participation in social activities appear similar.  However, ANOVA testing reveals a p-value of 0.0037, meaning a significant difference in populations.  The difference between the Czech Republic and Norway is most significant, with t-testing giving a p-value of 0.0057.  The mean score between the three countries are fairly close, but there is a clear order: Czech Republic- 2.70, Switzerland- 2.78, and Norway- 2.86.\n",
    "\n",
    "I used One-way ANOVA to compare populations since there were three independent groups and data is normally distributed."
   ]
  }
 ],
 "metadata": {
  "kernelspec": {
   "display_name": "Python 3",
   "language": "python",
   "name": "python3"
  },
  "language_info": {
   "codemirror_mode": {
    "name": "ipython",
    "version": 3
   },
   "file_extension": ".py",
   "mimetype": "text/x-python",
   "name": "python",
   "nbconvert_exporter": "python",
   "pygments_lexer": "ipython3",
   "version": "3.6.5"
  }
 },
 "nbformat": 4,
 "nbformat_minor": 2
}
