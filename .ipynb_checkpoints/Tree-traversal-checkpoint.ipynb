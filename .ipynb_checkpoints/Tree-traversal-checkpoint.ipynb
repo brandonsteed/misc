{
 "cells": [
  {
   "cell_type": "code",
   "execution_count": 1,
   "metadata": {},
   "outputs": [],
   "source": [
    "import numpy as np"
   ]
  },
  {
   "cell_type": "code",
   "execution_count": 2,
   "metadata": {},
   "outputs": [],
   "source": [
    "class Node(object):\n",
    "    def __init__(self, val):\n",
    "        self.left = None\n",
    "        self.right = None\n",
    "        self.val = val\n",
    "        \n",
    "    def __repr__(self):\n",
    "        return \"{}\".format(self.val)"
   ]
  },
  {
   "cell_type": "code",
   "execution_count": 3,
   "metadata": {},
   "outputs": [],
   "source": [
    "# Establish the initial root node and children\n",
    "root = Node(0)\n",
    "root.left = Node(1)\n",
    "root.right = Node(2)\n",
    "\n",
    "# Add the appropriate children for ‘B’ and ‘C’\n",
    "root.left.left = Node(3)\n",
    "root.left.right = Node(4)\n",
    "root.right.left = Node(5)\n",
    "root.right.right = Node(6)\n",
    "\n",
    "root.left.left.left = Node(7)\n",
    "root.left.left.right = Node(8)\n",
    "root.left.right.left = Node(9)\n",
    "root.left.right.right = Node(10)\n",
    "root.right.left.left = Node(11)\n",
    "root.right.left.right = Node(12)\n",
    "root.right.right.left = Node(13)\n",
    "root.right.right.right = Node(14)"
   ]
  },
  {
   "cell_type": "code",
   "execution_count": 4,
   "metadata": {},
   "outputs": [
    {
     "name": "stdout",
     "output_type": "stream",
     "text": [
      "9\n"
     ]
    }
   ],
   "source": [
    "print(root.left.right.left)"
   ]
  },
  {
   "cell_type": "code",
   "execution_count": 5,
   "metadata": {},
   "outputs": [],
   "source": [
    "# defining function\n",
    "def breadth_traverse(root):\n",
    "    h = height(root)\n",
    "    for i in range(1, h+1):\n",
    "        print_row(root, i)\n",
    "\n",
    "# print each row\n",
    "def print_row(root, row):\n",
    "    if root is None:\n",
    "        return\n",
    "    if row == 1:\n",
    "        print(root.val)\n",
    "    # Print left and right for each level\n",
    "    elif row > 1:\n",
    "        print_row(root.left, row-1)\n",
    "        print_row(root.right, row-1)\n",
    "\n",
    "# calculate the height of the tree\n",
    "def height(node):\n",
    "    if node is None:\n",
    "        return 0\n",
    "    else:\n",
    "        lheight = height(node.left)\n",
    "        rheight = height(node.right)\n",
    "        # Use the larger height\n",
    "        if lheight > rheight:\n",
    "            return lheight+1\n",
    "        else:\n",
    "            return rheight+1"
   ]
  },
  {
   "cell_type": "code",
   "execution_count": 6,
   "metadata": {},
   "outputs": [
    {
     "name": "stdout",
     "output_type": "stream",
     "text": [
      "0\n",
      "1\n",
      "2\n",
      "3\n",
      "4\n",
      "5\n",
      "6\n",
      "7\n",
      "8\n",
      "9\n",
      "10\n",
      "11\n",
      "12\n",
      "13\n",
      "14\n"
     ]
    }
   ],
   "source": [
    "breadth_traverse(root)"
   ]
  },
  {
   "cell_type": "code",
   "execution_count": 7,
   "metadata": {},
   "outputs": [],
   "source": [
    "tree_values = np.random.randint(100, size=15)"
   ]
  },
  {
   "cell_type": "code",
   "execution_count": 8,
   "metadata": {},
   "outputs": [],
   "source": [
    "# Establish the initial root node and children\n",
    "root = Node(tree_values[0])\n",
    "root.left = Node(tree_values[1])\n",
    "root.right = Node(tree_values[2])\n",
    "\n",
    "# Add the appropriate children for ‘B’ and ‘C’\n",
    "root.left.left = Node(tree_values[3])\n",
    "root.left.right = Node(tree_values[4])\n",
    "root.right.left = Node(tree_values[5])\n",
    "root.right.right = Node(tree_values[6])\n",
    "\n",
    "root.left.left.left = Node(tree_values[7])\n",
    "root.left.left.right = Node(tree_values[8])\n",
    "root.left.right.left = Node(tree_values[9])\n",
    "root.left.right.right = Node(tree_values[10])\n",
    "root.right.left.left = Node(tree_values[11])\n",
    "root.right.left.right = Node(tree_values[12])\n",
    "root.right.right.left = Node(tree_values[13])\n",
    "root.right.right.right = Node(tree_values[14])"
   ]
  },
  {
   "cell_type": "code",
   "execution_count": 9,
   "metadata": {},
   "outputs": [
    {
     "name": "stdout",
     "output_type": "stream",
     "text": [
      "8\n",
      "75\n",
      "68\n",
      "53\n",
      "16\n",
      "83\n",
      "14\n",
      "59\n",
      "0\n",
      "2\n",
      "51\n",
      "69\n",
      "41\n",
      "40\n",
      "20\n"
     ]
    }
   ],
   "source": [
    "breadth_traverse(root)"
   ]
  }
 ],
 "metadata": {
  "kernelspec": {
   "display_name": "Python 3",
   "language": "python",
   "name": "python3"
  },
  "language_info": {
   "codemirror_mode": {
    "name": "ipython",
    "version": 3
   },
   "file_extension": ".py",
   "mimetype": "text/x-python",
   "name": "python",
   "nbconvert_exporter": "python",
   "pygments_lexer": "ipython3",
   "version": "3.6.5"
  }
 },
 "nbformat": 4,
 "nbformat_minor": 2
}
